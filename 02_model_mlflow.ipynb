{
 "cells": [
  {
   "cell_type": "code",
   "execution_count": 9,
   "id": "ae08cfcf-b037-445b-bb49-e7d9e564812d",
   "metadata": {},
   "outputs": [
    {
     "name": "stdout",
     "output_type": "stream",
     "text": [
      "Note: you may need to restart the kernel to use updated packages.\n"
     ]
    }
   ],
   "source": [
    "%pip install -q scikit-learn mlflow matplotlib joblib\n"
   ]
  },
  {
   "cell_type": "code",
   "execution_count": 10,
   "id": "a027274a-687b-4aae-be6b-a5a5daaaa506",
   "metadata": {},
   "outputs": [
    {
     "data": {
      "text/plain": [
       "(17, 9, (23974, 26))"
      ]
     },
     "execution_count": 10,
     "metadata": {},
     "output_type": "execute_result"
    }
   ],
   "source": [
    "# беру подготовленные train/test с нашими фичами из предыдущего ноутбука\n",
    "from pathlib import Path\n",
    "import pandas as pd\n",
    "\n",
    "PROC = Path(\"data/processed\")\n",
    "TARGET = \"default.payment.next.month\"\n",
    "\n",
    "train = pd.read_csv(PROC / \"train.csv\")\n",
    "test  = pd.read_csv(PROC / \"test.csv\")\n",
    "\n",
    "# численные и категориальные \n",
    "num_feats = [\n",
    "    \"LIMIT_BAL\",\"AGE\",\n",
    "    \"BILL_AMT1\",\"BILL_AMT2\",\"BILL_AMT3\",\"BILL_AMT4\",\"BILL_AMT5\",\"BILL_AMT6\",\n",
    "    \"PAY_AMT1\",\"PAY_AMT2\",\"PAY_AMT3\",\"PAY_AMT4\",\"PAY_AMT5\",\"PAY_AMT6\",\n",
    "    \"utilization1\",\"payment_ratio1\",\"max_delay\"\n",
    "]\n",
    "cat_feats = [\"SEX\",\"EDUCATION\",\"MARRIAGE\",\"PAY_0\",\"PAY_2\",\"PAY_3\",\"PAY_4\",\"PAY_5\",\"PAY_6\"]\n",
    "\n",
    "X_train, y_train = train.drop(columns=[TARGET]), train[TARGET]\n",
    "X_test,  y_test  = test.drop(columns=[TARGET]),  test[TARGET]\n",
    "\n",
    "len(num_feats), len(cat_feats), X_train.shape\n"
   ]
  },
  {
   "cell_type": "code",
   "execution_count": 11,
   "id": "ded7d99f-c7e0-4e38-b603-1f407d039de4",
   "metadata": {},
   "outputs": [],
   "source": [
    "from sklearn.pipeline import Pipeline\n",
    "from sklearn.compose import ColumnTransformer\n",
    "from sklearn.preprocessing import StandardScaler, OneHotEncoder\n",
    "from sklearn.impute import SimpleImputer\n",
    "from sklearn.linear_model import LogisticRegression\n",
    "from sklearn.ensemble import GradientBoostingClassifier\n",
    "\n",
    "# предобработка\n",
    "num_tf = Pipeline(steps=[\n",
    "    (\"imp\", SimpleImputer(strategy=\"median\")),\n",
    "    (\"sc\",  StandardScaler())\n",
    "])\n",
    "cat_tf = Pipeline(steps=[\n",
    "    (\"imp\", SimpleImputer(strategy=\"most_frequent\")),\n",
    "    (\"oh\",  OneHotEncoder(handle_unknown=\"ignore\"))\n",
    "])\n",
    "\n",
    "preprocess = ColumnTransformer([\n",
    "    (\"num\", num_tf, num_feats),\n",
    "    (\"cat\", cat_tf, cat_feats),\n",
    "])\n",
    "\n",
    "# базовый пайп с логрег\n",
    "pipe_logreg = Pipeline([\n",
    "    (\"pre\", preprocess),\n",
    "    (\"clf\", LogisticRegression(max_iter=400, class_weight=\"balanced\"))\n",
    "])\n",
    "\n",
    "# альтернативный пайп с GBDT\n",
    "pipe_gbdt = Pipeline([\n",
    "    (\"pre\", preprocess),\n",
    "    (\"clf\", GradientBoostingClassifier())\n",
    "])\n"
   ]
  },
  {
   "cell_type": "code",
   "execution_count": 12,
   "id": "9cb57a13-b7e2-4040-b697-d13258870f49",
   "metadata": {},
   "outputs": [
    {
     "data": {
      "text/plain": [
       "(0.7757013885448544, 0.7856355398406617)"
      ]
     },
     "execution_count": 12,
     "metadata": {},
     "output_type": "execute_result"
    }
   ],
   "source": [
    "from sklearn.model_selection import RandomizedSearchCV\n",
    "from scipy.stats import loguniform, randint\n",
    "\n",
    "# логрегрессия\n",
    "pipe_logreg.set_params(clf__max_iter=1000)  \n",
    "\n",
    "param_logreg = {\n",
    "    \"clf__C\": loguniform(1e-2, 1e1),       \n",
    "    \"clf__penalty\": [\"l2\"],\n",
    "    \"clf__solver\": [\"lbfgs\", \"saga\"]\n",
    "}\n",
    "\n",
    "param_gbdt = {\n",
    "    \"clf__n_estimators\": randint(80, 300),\n",
    "    \"clf__learning_rate\": loguniform(1e-2, 3e-1),\n",
    "    \"clf__max_depth\": randint(2, 5),\n",
    "}\n",
    "\n",
    "cv_logreg = RandomizedSearchCV(pipe_logreg, param_logreg, n_iter=20,\n",
    "                               scoring=\"roc_auc\", cv=3, random_state=42, n_jobs=-1, verbose=0)\n",
    "\n",
    "cv_gbdt = RandomizedSearchCV(pipe_gbdt, param_gbdt, n_iter=20,\n",
    "                             scoring=\"roc_auc\", cv=3, random_state=42, n_jobs=-1, verbose=0)\n",
    "\n",
    "cv_logreg.fit(X_train, y_train)\n",
    "cv_gbdt.fit(X_train, y_train)\n",
    "cv_logreg.best_score_, cv_gbdt.best_score_\n"
   ]
  },
  {
   "cell_type": "code",
   "execution_count": 13,
   "id": "bae5d5ec-5db8-466b-8ab7-fc9ec66a14b4",
   "metadata": {},
   "outputs": [
    {
     "name": "stdout",
     "output_type": "stream",
     "text": [
      "Лучшая модель: gbdt\n"
     ]
    },
    {
     "data": {
      "text/plain": [
       "{'model': 'gbdt',\n",
       " 'test_auc': 0.7804616314386661,\n",
       " 'test_f1': 0.47093307278944796,\n",
       " 'test_precision': 0.6685159500693482,\n",
       " 'test_recall': 0.363499245852187}"
      ]
     },
     "execution_count": 13,
     "metadata": {},
     "output_type": "execute_result"
    }
   ],
   "source": [
    "from sklearn.metrics import roc_auc_score, f1_score, precision_score, recall_score, RocCurveDisplay\n",
    "import matplotlib.pyplot as plt\n",
    "import json\n",
    "from joblib import dump\n",
    "from pathlib import Path\n",
    "\n",
    "# выбираю по лучшему cv-roc_auc\n",
    "best_est, best_name = (cv_gbdt.best_estimator_, \"gbdt\") if cv_gbdt.best_score_ >= cv_logreg.best_score_ else (cv_logreg.best_estimator_, \"logreg\")\n",
    "print(\"Лучшая модель:\", best_name)\n",
    "\n",
    "proba = best_est.predict_proba(X_test)[:,1]\n",
    "pred  = (proba >= 0.5).astype(int)\n",
    "\n",
    "metrics = {\n",
    "    \"model\": best_name,\n",
    "    \"test_auc\": float(roc_auc_score(y_test, proba)),\n",
    "    \"test_f1\": float(f1_score(y_test, pred)),\n",
    "    \"test_precision\": float(precision_score(y_test, pred, zero_division=0)),\n",
    "    \"test_recall\": float(recall_score(y_test, pred)),\n",
    "}\n",
    "metrics\n"
   ]
  },
  {
   "cell_type": "code",
   "execution_count": 14,
   "id": "d056b9bc-d558-4c60-adc2-111b9da98d04",
   "metadata": {},
   "outputs": [
    {
     "data": {
      "text/plain": [
       "'Сохранил: models/credit_default_model.pkl, metrics.json, artifacts/roc.png, feature_list.json'"
      ]
     },
     "execution_count": 14,
     "metadata": {},
     "output_type": "execute_result"
    }
   ],
   "source": [
    "# ROC\n",
    "RocCurveDisplay.from_predictions(y_test, proba)\n",
    "plt.title(f\"ROC ({best_name})\")\n",
    "plt.tight_layout()\n",
    "Path(\"artifacts\").mkdir(exist_ok=True, parents=True)\n",
    "plt.savefig(\"artifacts/roc.png\"); plt.close()\n",
    "\n",
    "Path(\"models\").mkdir(exist_ok=True, parents=True)\n",
    "dump(best_est, \"models/credit_default_model.pkl\")\n",
    "\n",
    "# метрики и список признаков для DVC/отчёта/APIs\n",
    "Path(\"metrics.json\").write_text(json.dumps(metrics, indent=2, ensure_ascii=False))\n",
    "feat_spec = {\"num_feats\": num_feats, \"cat_feats\": cat_feats}\n",
    "Path(\"feature_list.json\").write_text(json.dumps(feat_spec, indent=2, ensure_ascii=False))\n",
    "\n",
    "\"Сохранил: models/credit_default_model.pkl, metrics.json, artifacts/roc.png, feature_list.json\"\n"
   ]
  },
  {
   "cell_type": "code",
   "execution_count": 32,
   "id": "6a9034f4-240d-472c-986b-ab68b6b6de81",
   "metadata": {},
   "outputs": [
    {
     "name": "stderr",
     "output_type": "stream",
     "text": [
      "2025/10/29 23:40:12 WARNING mlflow.models.model: `artifact_path` is deprecated. Please use `name` instead.\n"
     ]
    },
    {
     "data": {
      "application/vnd.jupyter.widget-view+json": {
       "model_id": "29d501f416bc43e098aec4aebff89c11",
       "version_major": 2,
       "version_minor": 0
      },
      "text/plain": [
       "Downloading artifacts:   0%|          | 0/7 [00:00<?, ?it/s]"
      ]
     },
     "metadata": {},
     "output_type": "display_data"
    },
    {
     "data": {
      "text/plain": [
       "'MLflow run logged with signature (int-like -> float64 for signature).'"
      ]
     },
     "execution_count": 32,
     "metadata": {},
     "output_type": "execute_result"
    }
   ],
   "source": [
    "import mlflow, mlflow.sklearn\n",
    "from mlflow.models.signature import infer_signature\n",
    "\n",
    "mlflow.set_tracking_uri(\"file:./mlruns\")\n",
    "mlflow.set_experiment(\"CreditDefault_Prediction\")  # единое имя\n",
    "\n",
    "int_like = [\"SEX\",\"EDUCATION\",\"MARRIAGE\",\"AGE\",\"PAY_0\",\"PAY_2\",\"PAY_3\",\"PAY_4\",\"PAY_5\",\"PAY_6\",\"max_delay\"]\n",
    "X_sig = X_train.copy()\n",
    "for c in int_like:\n",
    "    if c in X_sig.columns:\n",
    "        X_sig[c] = X_sig[c].astype(\"float64\")\n",
    "\n",
    "# берём реалистичный сэмпл \n",
    "input_example = X_sig.head(1)\n",
    "signature = infer_signature(X_sig.head(200), best_est.predict_proba(X_sig.head(200))[:, 1])\n",
    "\n",
    "with mlflow.start_run():\n",
    "    mlflow.log_param(\"model\", best_name)\n",
    "    for k, v in best_est.named_steps[\"clf\"].get_params().items():\n",
    "        mlflow.log_param(f\"clf__{k}\", v)\n",
    "\n",
    "    for k, v in metrics.items():\n",
    "        if k.startswith(\"test_\"):\n",
    "            mlflow.log_metric(k, v)\n",
    "\n",
    "    mlflow.log_artifact(\"artifacts/roc.png\")\n",
    "\n",
    "    mlflow.sklearn.log_model(\n",
    "        sk_model=best_est,\n",
    "        artifact_path=\"CreditDefaultModel\",          \n",
    "        signature=signature,\n",
    "        input_example=input_example\n",
    "    )\n",
    "\n",
    "\"MLflow run logged with signature (int-like -> float64 for signature).\"\n"
   ]
  },
  {
   "cell_type": "code",
   "execution_count": 34,
   "id": "d72cdb7d-2eca-400c-b35d-aa59b975b15c",
   "metadata": {},
   "outputs": [
    {
     "name": "stderr",
     "output_type": "stream",
     "text": [
      "2025/10/29 23:45:46 WARNING mlflow.models.model: `artifact_path` is deprecated. Please use `name` instead.\n",
      "2025/10/29 23:45:49 WARNING mlflow.models.model: Model logged without a signature and input example. Please set `input_example` parameter when logging the model to auto infer the model signature.\n",
      "C:\\Users\\USER\\anaconda3\\Lib\\site-packages\\sklearn\\linear_model\\_sag.py:350: ConvergenceWarning: The max_iter was reached which means the coef_ did not converge\n",
      "  warnings.warn(\n",
      "2025/10/29 23:45:54 WARNING mlflow.models.model: `artifact_path` is deprecated. Please use `name` instead.\n",
      "2025/10/29 23:45:57 WARNING mlflow.models.model: Model logged without a signature and input example. Please set `input_example` parameter when logging the model to auto infer the model signature.\n",
      "2025/10/29 23:46:12 WARNING mlflow.models.model: `artifact_path` is deprecated. Please use `name` instead.\n",
      "2025/10/29 23:46:14 WARNING mlflow.models.model: Model logged without a signature and input example. Please set `input_example` parameter when logging the model to auto infer the model signature.\n",
      "2025/10/29 23:46:37 WARNING mlflow.models.model: `artifact_path` is deprecated. Please use `name` instead.\n",
      "2025/10/29 23:46:40 WARNING mlflow.models.model: Model logged without a signature and input example. Please set `input_example` parameter when logging the model to auto infer the model signature.\n",
      "2025/10/29 23:46:42 WARNING mlflow.models.model: `artifact_path` is deprecated. Please use `name` instead.\n",
      "2025/10/29 23:46:44 WARNING mlflow.models.model: Model logged without a signature and input example. Please set `input_example` parameter when logging the model to auto infer the model signature.\n"
     ]
    },
    {
     "name": "stdout",
     "output_type": "stream",
     "text": [
      "Готово: добили 5+ экспериментов.\n"
     ]
    }
   ],
   "source": [
    "import mlflow, mlflow.sklearn\n",
    "from sklearn.linear_model import LogisticRegression\n",
    "from sklearn.ensemble import GradientBoostingClassifier, RandomForestClassifier\n",
    "\n",
    "mlflow.set_tracking_uri(\"file:./mlruns\")\n",
    "mlflow.set_experiment(\"CreditDefault_Prediction\")\n",
    "\n",
    "candidates = [\n",
    "    (\"logreg\", LogisticRegression(max_iter=1000, class_weight=\"balanced\", C=0.3, solver=\"lbfgs\")),\n",
    "    (\"logreg\", LogisticRegression(max_iter=1000, class_weight=\"balanced\", C=1.0, solver=\"saga\")),\n",
    "    (\"gbdt\",   GradientBoostingClassifier(n_estimators=150, learning_rate=0.08, max_depth=3)),\n",
    "    (\"gbdt\",   GradientBoostingClassifier(n_estimators=230, learning_rate=0.06, max_depth=3)),\n",
    "    (\"rf\",     RandomForestClassifier(n_estimators=300, max_depth=8, class_weight=\"balanced_subsample\", n_jobs=-1)),\n",
    "]\n",
    "\n",
    "for name, clf in candidates:\n",
    "    pipe = best_est.set_params(clf=clf)  # тот же preprocess, меняем только классификатор\n",
    "    with mlflow.start_run():\n",
    "        pipe.fit(X_train, y_train)\n",
    "        proba = pipe.predict_proba(X_test)[:,1]\n",
    "        pred  = (proba >= 0.5).astype(int)\n",
    "\n",
    "        # метрики\n",
    "        from sklearn.metrics import roc_auc_score, f1_score, precision_score, recall_score\n",
    "        m = {\n",
    "            \"test_auc\": float(roc_auc_score(y_test, proba)),\n",
    "            \"test_f1\": float(f1_score(y_test, pred)),\n",
    "            \"test_precision\": float(precision_score(y_test, pred, zero_division=0)),\n",
    "            \"test_recall\": float(recall_score(y_test, pred)),\n",
    "        }\n",
    "\n",
    "        mlflow.log_param(\"model\", name)\n",
    "        for k,v in clf.get_params().items():\n",
    "            mlflow.log_param(f\"clf__{k}\", v)\n",
    "        for k,v in m.items():\n",
    "            mlflow.log_metric(k, v)\n",
    "\n",
    "        mlflow.sklearn.log_model(pipe, artifact_path=\"model\")  \n",
    "print(\"добили 5+ экспериментов.\")\n"
   ]
  },
  {
   "cell_type": "code",
   "execution_count": 36,
   "id": "29fc64d2-de7c-438a-bfd6-717eafa2d40e",
   "metadata": {},
   "outputs": [
    {
     "data": {
      "text/html": [
       "<div>\n",
       "<style scoped>\n",
       "    .dataframe tbody tr th:only-of-type {\n",
       "        vertical-align: middle;\n",
       "    }\n",
       "\n",
       "    .dataframe tbody tr th {\n",
       "        vertical-align: top;\n",
       "    }\n",
       "\n",
       "    .dataframe thead th {\n",
       "        text-align: right;\n",
       "    }\n",
       "</style>\n",
       "<table border=\"1\" class=\"dataframe\">\n",
       "  <thead>\n",
       "    <tr style=\"text-align: right;\">\n",
       "      <th></th>\n",
       "      <th>run_id</th>\n",
       "      <th>params.model</th>\n",
       "      <th>metrics.test_auc</th>\n",
       "      <th>metrics.test_f1</th>\n",
       "      <th>metrics.test_precision</th>\n",
       "      <th>metrics.test_recall</th>\n",
       "    </tr>\n",
       "  </thead>\n",
       "  <tbody>\n",
       "    <tr>\n",
       "      <th>0</th>\n",
       "      <td>ab9832d3f78a4194b85b054bdb09ebb4</td>\n",
       "      <td>gbdt</td>\n",
       "      <td>0.781826</td>\n",
       "      <td>0.465071</td>\n",
       "      <td>0.660194</td>\n",
       "      <td>0.358974</td>\n",
       "    </tr>\n",
       "    <tr>\n",
       "      <th>1</th>\n",
       "      <td>2e79c690178846f8b83d6efc948980e9</td>\n",
       "      <td>gbdt</td>\n",
       "      <td>0.780689</td>\n",
       "      <td>0.467545</td>\n",
       "      <td>0.662517</td>\n",
       "      <td>0.361237</td>\n",
       "    </tr>\n",
       "    <tr>\n",
       "      <th>2</th>\n",
       "      <td>b36985e20f0940f88f35962083329ea9</td>\n",
       "      <td>gbdt</td>\n",
       "      <td>0.780462</td>\n",
       "      <td>0.470933</td>\n",
       "      <td>0.668516</td>\n",
       "      <td>0.363499</td>\n",
       "    </tr>\n",
       "    <tr>\n",
       "      <th>3</th>\n",
       "      <td>84ad7277802c4fd0b58f2c9846a70459</td>\n",
       "      <td>gbdt</td>\n",
       "      <td>0.780462</td>\n",
       "      <td>0.470933</td>\n",
       "      <td>0.668516</td>\n",
       "      <td>0.363499</td>\n",
       "    </tr>\n",
       "    <tr>\n",
       "      <th>4</th>\n",
       "      <td>9e5c378a85964dbfb9071be40dbf0099</td>\n",
       "      <td>gbdt</td>\n",
       "      <td>0.780462</td>\n",
       "      <td>0.470933</td>\n",
       "      <td>0.668516</td>\n",
       "      <td>0.363499</td>\n",
       "    </tr>\n",
       "    <tr>\n",
       "      <th>5</th>\n",
       "      <td>bdcc4a37c418465a9236fe84d6d9cc8c</td>\n",
       "      <td>gbdt</td>\n",
       "      <td>0.780462</td>\n",
       "      <td>0.470933</td>\n",
       "      <td>0.668516</td>\n",
       "      <td>0.363499</td>\n",
       "    </tr>\n",
       "    <tr>\n",
       "      <th>6</th>\n",
       "      <td>e305b9f190d84882a8e2131995d56dbf</td>\n",
       "      <td>gbdt</td>\n",
       "      <td>0.780462</td>\n",
       "      <td>0.470933</td>\n",
       "      <td>0.668516</td>\n",
       "      <td>0.363499</td>\n",
       "    </tr>\n",
       "    <tr>\n",
       "      <th>7</th>\n",
       "      <td>82340676557847719b9d6aed46a1a5f7</td>\n",
       "      <td>rf</td>\n",
       "      <td>0.776793</td>\n",
       "      <td>0.540121</td>\n",
       "      <td>0.488415</td>\n",
       "      <td>0.604072</td>\n",
       "    </tr>\n",
       "    <tr>\n",
       "      <th>8</th>\n",
       "      <td>dc983047e0f94ed08dcc82ee036da9a1</td>\n",
       "      <td>logreg</td>\n",
       "      <td>0.763192</td>\n",
       "      <td>0.520847</td>\n",
       "      <td>0.464033</td>\n",
       "      <td>0.593514</td>\n",
       "    </tr>\n",
       "    <tr>\n",
       "      <th>9</th>\n",
       "      <td>94706bc6eac948988801fdaebb4f8f0e</td>\n",
       "      <td>logreg</td>\n",
       "      <td>0.763130</td>\n",
       "      <td>0.520875</td>\n",
       "      <td>0.464539</td>\n",
       "      <td>0.592760</td>\n",
       "    </tr>\n",
       "  </tbody>\n",
       "</table>\n",
       "</div>"
      ],
      "text/plain": [
       "                             run_id params.model  metrics.test_auc  \\\n",
       "0  ab9832d3f78a4194b85b054bdb09ebb4         gbdt          0.781826   \n",
       "1  2e79c690178846f8b83d6efc948980e9         gbdt          0.780689   \n",
       "2  b36985e20f0940f88f35962083329ea9         gbdt          0.780462   \n",
       "3  84ad7277802c4fd0b58f2c9846a70459         gbdt          0.780462   \n",
       "4  9e5c378a85964dbfb9071be40dbf0099         gbdt          0.780462   \n",
       "5  bdcc4a37c418465a9236fe84d6d9cc8c         gbdt          0.780462   \n",
       "6  e305b9f190d84882a8e2131995d56dbf         gbdt          0.780462   \n",
       "7  82340676557847719b9d6aed46a1a5f7           rf          0.776793   \n",
       "8  dc983047e0f94ed08dcc82ee036da9a1       logreg          0.763192   \n",
       "9  94706bc6eac948988801fdaebb4f8f0e       logreg          0.763130   \n",
       "\n",
       "   metrics.test_f1  metrics.test_precision  metrics.test_recall  \n",
       "0         0.465071                0.660194             0.358974  \n",
       "1         0.467545                0.662517             0.361237  \n",
       "2         0.470933                0.668516             0.363499  \n",
       "3         0.470933                0.668516             0.363499  \n",
       "4         0.470933                0.668516             0.363499  \n",
       "5         0.470933                0.668516             0.363499  \n",
       "6         0.470933                0.668516             0.363499  \n",
       "7         0.540121                0.488415             0.604072  \n",
       "8         0.520847                0.464033             0.593514  \n",
       "9         0.520875                0.464539             0.592760  "
      ]
     },
     "metadata": {},
     "output_type": "display_data"
    }
   ],
   "source": [
    "import mlflow\n",
    "import pandas as pd\n",
    "\n",
    "mlflow.set_tracking_uri(\"file:./mlruns\")\n",
    "exp = [e for e in mlflow.search_experiments() if e.name==\"CreditDefault_Prediction\"][0]\n",
    "runs = mlflow.search_runs(experiment_ids=[exp.experiment_id])\n",
    "\n",
    "cols = [\"run_id\",\"params.model\",\"metrics.test_auc\",\"metrics.test_f1\",\"metrics.test_precision\",\"metrics.test_recall\"]\n",
    "display(runs[cols].sort_values(\"metrics.test_auc\", ascending=False).reset_index(drop=True).head(20))\n"
   ]
  }
 ],
 "metadata": {
  "kernelspec": {
   "display_name": "Python 3 (ipykernel)",
   "language": "python",
   "name": "python3"
  },
  "language_info": {
   "codemirror_mode": {
    "name": "ipython",
    "version": 3
   },
   "file_extension": ".py",
   "mimetype": "text/x-python",
   "name": "python",
   "nbconvert_exporter": "python",
   "pygments_lexer": "ipython3",
   "version": "3.12.4"
  }
 },
 "nbformat": 4,
 "nbformat_minor": 5
}
